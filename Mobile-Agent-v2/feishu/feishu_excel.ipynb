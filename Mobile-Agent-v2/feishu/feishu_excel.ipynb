{
 "cells": [
  {
   "metadata": {
    "ExecuteTime": {
     "end_time": "2024-09-02T10:03:22.632101Z",
     "start_time": "2024-09-02T10:03:22.326459Z"
    }
   },
   "cell_type": "code",
   "source": "import requests",
   "id": "d338aa0749d3ecd6",
   "outputs": [],
   "execution_count": 1
  },
  {
   "cell_type": "code",
   "id": "initial_id",
   "metadata": {
    "collapsed": true,
    "ExecuteTime": {
     "end_time": "2024-09-02T10:03:22.880745Z",
     "start_time": "2024-09-02T10:03:22.643702Z"
    }
   },
   "source": [
    "url = \"https://open.feishu.cn/open-apis/auth/v3/tenant_access_token/internal/\"\n",
    "#应用凭证里的 app id 和 app secret  \n",
    "post_data = {\"app_id\": \"cli_a65bde15e83e900d\", \"app_secret\": \"x5bpJ6ohKQfm0Msa57d4wvsm6Aljfya6\"}\n",
    "r = requests.post(url, data=post_data)\n",
    "tat = r.json()[\"tenant_access_token\"]"
   ],
   "outputs": [],
   "execution_count": 2
  },
  {
   "metadata": {
    "ExecuteTime": {
     "end_time": "2024-09-02T10:03:45.909443Z",
     "start_time": "2024-09-02T10:03:45.903070Z"
    }
   },
   "cell_type": "code",
   "source": "tat",
   "id": "33f99a4451bfa67f",
   "outputs": [
    {
     "data": {
      "text/plain": [
       "'t-g10492hmRBAOGUR6XDSTWQRLWBA77BJZTZ3CPC4H'"
      ]
     },
     "execution_count": 3,
     "metadata": {},
     "output_type": "execute_result"
    }
   ],
   "execution_count": 3
  },
  {
   "metadata": {
    "ExecuteTime": {
     "end_time": "2024-09-02T10:15:03.474041Z",
     "start_time": "2024-09-02T10:15:02.909859Z"
    }
   },
   "cell_type": "code",
   "source": [
    "#飞书文档的储存地址结构：https://企业地址/sheets/shtcnjGdHzBm7Qa85UXQYk9OPxh?sheet=402cb1     #一般来说sh开头为文档地址，sheet=后跟工作簿地址，这两块是代码需要引用的参数\n",
    "import json\n",
    "\n",
    "url = \"https://open.feishu.cn/open-apis/sheets/v2/spreadsheets/COLAsmCYWhswFPtQIKCcEoWdnJg/values\"  #写入的sh开头的文档地址，其他不变\n",
    "\n",
    "header = {\"Content-Type\": \"application/json\", \"Authorization\": \"Bearer \" + str(tat)}  #请求头\n",
    "\n",
    "post_data = {\n",
    "    \"valueRange\": {\n",
    "        \"range\": \"d3e680!C6:F9\",\n",
    "        \"values\": [\n",
    "            [\n",
    "                \"string\",\n",
    "                1,\n",
    "                \"http://www.xx.com\"\n",
    "            ]\n",
    "        ]\n",
    "    }\n",
    "}\n",
    "\n",
    "r2 = requests.put(url, data=json.dumps(post_data), headers=header)  #请求写入"
   ],
   "id": "81a3cc010ff5c9b7",
   "outputs": [],
   "execution_count": 23
  },
  {
   "metadata": {
    "ExecuteTime": {
     "end_time": "2024-09-02T10:15:03.478589Z",
     "start_time": "2024-09-02T10:15:03.475010Z"
    }
   },
   "cell_type": "code",
   "source": "r2.content",
   "id": "95b6e98d85930e3b",
   "outputs": [
    {
     "data": {
      "text/plain": [
       "b'{\"code\":0,\"data\":{\"revision\":10,\"spreadsheetToken\":\"COLAsmCYWhswFPtQIKCcEoWdnJg\",\"updatedCells\":3,\"updatedColumns\":3,\"updatedRange\":\"d3e680!C6:E6\",\"updatedRows\":1},\"msg\":\"success\"}'"
      ]
     },
     "execution_count": 24,
     "metadata": {},
     "output_type": "execute_result"
    }
   ],
   "execution_count": 24
  },
  {
   "metadata": {},
   "cell_type": "code",
   "outputs": [],
   "execution_count": null,
   "source": "",
   "id": "99d366c1c5d80a0b"
  },
  {
   "metadata": {
    "ExecuteTime": {
     "end_time": "2024-09-02T11:18:33.930224Z",
     "start_time": "2024-09-02T11:18:33.294402Z"
    }
   },
   "cell_type": "code",
   "source": [
    "#飞书文档的储存地址结构：https://企业地址/sheets/shtcnjGdHzBm7Qa85UXQYk9OPxh?sheet=402cb1     #一般来说sh开头为文档地址，sheet=后跟工作簿地址，这两块是代码需要引用的参数\n",
    "import json\n",
    "\n",
    "url = \"https://open.feishu.cn/open-apis/sheets/v2/spreadsheets/COLAsmCYWhswFPtQIKCcEoWdnJg/values_append\"  #写入的sh开头的文档地址，其他不变\n",
    "\n",
    "header = {\"Content-Type\": \"application/json\", \"Authorization\": \"Bearer \" + str(tat)}  #请求头\n",
    "\n",
    "post_data = {\n",
    "    \"valueRange\": {\n",
    "        \"range\": \"d3e680!A1:C1\",\n",
    "        \"values\": [\n",
    "            [\n",
    "                \"string\",\n",
    "                1,\n",
    "                \"http://www.xx.com\"\n",
    "            ]\n",
    "        ]\n",
    "    }\n",
    "}\n",
    "\n",
    "r2 = requests.post(url, data=json.dumps(post_data), headers=header)  #请求写入"
   ],
   "id": "4098934492549965",
   "outputs": [],
   "execution_count": 47
  },
  {
   "metadata": {
    "ExecuteTime": {
     "end_time": "2024-09-02T11:13:43.928768Z",
     "start_time": "2024-09-02T11:13:43.922396Z"
    }
   },
   "cell_type": "code",
   "source": "r2.content",
   "id": "6ae16d0bee776c40",
   "outputs": [
    {
     "data": {
      "text/plain": [
       "b'{\"code\":0,\"data\":{\"revision\":16,\"spreadsheetToken\":\"COLAsmCYWhswFPtQIKCcEoWdnJg\",\"tableRange\":\"d3e680!C9:E9\",\"updates\":{\"revision\":16,\"spreadsheetToken\":\"COLAsmCYWhswFPtQIKCcEoWdnJg\",\"updatedCells\":3,\"updatedColumns\":3,\"updatedRange\":\"d3e680!C9:E9\",\"updatedRows\":1}},\"msg\":\"success\"}'"
      ]
     },
     "execution_count": 32,
     "metadata": {},
     "output_type": "execute_result"
    }
   ],
   "execution_count": 32
  },
  {
   "metadata": {},
   "cell_type": "code",
   "outputs": [],
   "execution_count": null,
   "source": "",
   "id": "e96576939f38e779"
  },
  {
   "metadata": {
    "ExecuteTime": {
     "end_time": "2024-09-02T12:38:44.235732Z",
     "start_time": "2024-09-02T12:38:43.945342Z"
    }
   },
   "cell_type": "code",
   "source": "import requests, json",
   "id": "84dcec7341d00c24",
   "outputs": [],
   "execution_count": 5
  },
  {
   "metadata": {
    "ExecuteTime": {
     "end_time": "2024-09-02T12:38:44.412569Z",
     "start_time": "2024-09-02T12:38:44.236708Z"
    }
   },
   "cell_type": "code",
   "source": [
    "url = \"https://open.feishu.cn/open-apis/auth/v3/tenant_access_token/internal/\"\n",
    "#应用凭证里的 app id 和 app secret  \n",
    "post_data = {\"app_id\": \"cli_a65bde15e83e900d\", \"app_secret\": \"x5bpJ6ohKQfm0Msa57d4wvsm6Aljfya6\"}\n",
    "r = requests.post(url, data=post_data)\n",
    "tat = r.json()[\"tenant_access_token\"]"
   ],
   "id": "6d53e595cb89876f",
   "outputs": [],
   "execution_count": 6
  },
  {
   "metadata": {
    "ExecuteTime": {
     "end_time": "2024-09-02T12:38:44.963683Z",
     "start_time": "2024-09-02T12:38:44.958646Z"
    }
   },
   "cell_type": "code",
   "source": [
    "def insert(发言人, 发言内容):\n",
    "    url = \"https://open.feishu.cn/open-apis/sheets/v2/spreadsheets/COLAsmCYWhswFPtQIKCcEoWdnJg/values_append\"\n",
    "    header = {\"Content-Type\": \"application/json\", \"Authorization\": \"Bearer \" + str(tat)}\n",
    "\n",
    "    post_data = {\n",
    "        \"valueRange\": {\n",
    "            \"range\": \"d3e680!A1:C1\",\n",
    "            \"values\": [\n",
    "                [\n",
    "                    发言人,\n",
    "                    发言内容,\n",
    "                    \"\"\n",
    "                ]\n",
    "            ]\n",
    "        }\n",
    "    }\n",
    "    r2 = requests.post(url, data=json.dumps(post_data), headers=header)  #请求写入\n",
    "\n",
    "    if r2.status_code == 200:\n",
    "        print(\"写入成功\")\n",
    "    else:\n",
    "        print(\"写入失败\")\n",
    "        print(r2)\n"
   ],
   "id": "fb8b9db00fbdc1f9",
   "outputs": [],
   "execution_count": 7
  },
  {
   "metadata": {
    "ExecuteTime": {
     "end_time": "2024-09-02T12:38:46.273790Z",
     "start_time": "2024-09-02T12:38:45.692590Z"
    }
   },
   "cell_type": "code",
   "source": "insert(\"张三\", \"666\")",
   "id": "2b5c9069a2aaca76",
   "outputs": [
    {
     "name": "stdout",
     "output_type": "stream",
     "text": [
      "写入成功\n"
     ]
    }
   ],
   "execution_count": 8
  },
  {
   "metadata": {},
   "cell_type": "code",
   "source": "r2",
   "id": "b55e9b1bd5944a49",
   "outputs": [],
   "execution_count": null
  },
  {
   "metadata": {},
   "cell_type": "code",
   "outputs": [],
   "execution_count": null,
   "source": "",
   "id": "4f3533d0865ef9f4"
  },
  {
   "metadata": {
    "ExecuteTime": {
     "end_time": "2024-09-02T12:18:29.037232Z",
     "start_time": "2024-09-02T12:18:29.019640Z"
    }
   },
   "cell_type": "code",
   "source": [
    "import re\n",
    "\n",
    "def parse_insert_statements(text):\n",
    "    # 正则表达式匹配 Insert(\"发言人\", \"发言内容\")\n",
    "    insert_pattern = r'Insert\\(\"([^\"]+)\",\\s*\"([^\"]+)\"\\)'\n",
    "    \n",
    "    # 使用 findall 方法查找所有匹配项\n",
    "    matches = re.findall(insert_pattern, text)\n",
    "    \n",
    "    # 遍历匹配项，打印或处理数据\n",
    "    for speaker, content in matches:\n",
    "        print(f\"发言人: {speaker}, 发言内容: {content}\")\n",
    "        # 这里可以添加将数据写入数据库的代码\n",
    "        # 例如: database.insert(speaker, content)\n",
    "\n",
    "# 示例文本\n",
    "text = \"\"\"\n",
    "2、写入数据库的方法\n",
    "Insert(发言人，发言内容)\n",
    "下面是一个例子\n",
    "Insert(\"张三\",\"666\")\n",
    "如果要插入多条数据就重复调用，如\n",
    "Insert(\"张三\",\"666\")\n",
    "Insert(\"李四\",\"233\")\n",
    "\"\"\"\n",
    "\n",
    "# 调用函数\n",
    "parse_insert_statements(text)"
   ],
   "id": "cfa86e53b6d3f717",
   "outputs": [
    {
     "name": "stdout",
     "output_type": "stream",
     "text": [
      "发言人: 张三, 发言内容: 666\n",
      "发言人: 张三, 发言内容: 666\n",
      "发言人: 李四, 发言内容: 233\n"
     ]
    }
   ],
   "execution_count": 49
  },
  {
   "metadata": {},
   "cell_type": "code",
   "outputs": [],
   "execution_count": null,
   "source": "",
   "id": "4b23f2759a44dc4e"
  },
  {
   "metadata": {},
   "cell_type": "code",
   "outputs": [],
   "execution_count": null,
   "source": "",
   "id": "d9215a0994845a09"
  }
 ],
 "metadata": {
  "kernelspec": {
   "display_name": "Python 3",
   "language": "python",
   "name": "python3"
  },
  "language_info": {
   "codemirror_mode": {
    "name": "ipython",
    "version": 2
   },
   "file_extension": ".py",
   "mimetype": "text/x-python",
   "name": "python",
   "nbconvert_exporter": "python",
   "pygments_lexer": "ipython2",
   "version": "2.7.6"
  }
 },
 "nbformat": 4,
 "nbformat_minor": 5
}
